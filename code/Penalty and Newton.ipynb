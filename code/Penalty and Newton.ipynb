{
 "cells": [
  {
   "cell_type": "markdown",
   "metadata": {
    "id": "AeydU4zne03O"
   },
   "source": [
    "# Penalty method combined with Newton’s method"
   ]
  },
  {
   "cell_type": "markdown",
   "metadata": {
    "id": "G94lIPevRn8l"
   },
   "source": [
    "# Import the package"
   ]
  },
  {
   "cell_type": "code",
   "execution_count": 32,
   "metadata": {
    "id": "UnMTZQVKe4-i"
   },
   "outputs": [],
   "source": [
    "import math\n",
    "import numpy as np\n",
    "import pandas as pd\n",
    "# import scipy.optimize package for Minimization Problem\n",
    "from scipy.optimize import minimize"
   ]
  },
  {
   "cell_type": "markdown",
   "metadata": {
    "id": "53jgePNe4N96"
   },
   "source": [
    "# Example 1\n",
    "Problem Set 3: Question 5, using Minization Problem"
   ]
  },
  {
   "cell_type": "markdown",
   "metadata": {
    "id": "qAaHTQxJQWRO"
   },
   "source": [
    "## Define the constrained problem: z(X,mu)"
   ]
  },
  {
   "cell_type": "code",
   "execution_count": 9,
   "metadata": {
    "id": "5zuG8RQ64TzX"
   },
   "outputs": [],
   "source": [
    "# Minimize f = (x1-2)^2 + (x2-2)^2\n",
    "# s.t. x1 + 2x2 - 3 <=3\n",
    "#   8x1 + 5x2 >=10\n",
    "#   x1, x2 >=0\n",
    "def exterior (x) :\n",
    "    obj = (x[0] - 2)**2 + (x[1] - 2)**2\n",
    "    obj += mu*max(0, x[0] + 2*x[1] - 3)**2\n",
    "    obj += mu*max(0, -8*x[0] - 5*x[1] + 10)**2\n",
    "    return obj"
   ]
  },
  {
   "cell_type": "markdown",
   "metadata": {
    "id": "RvBx9UZORBdK"
   },
   "source": [
    "## Set the initial parameters and define the exterior penalty function"
   ]
  },
  {
   "cell_type": "code",
   "execution_count": 10,
   "metadata": {
    "id": "Vp_D6-J3AXvC"
   },
   "outputs": [],
   "source": [
    "i = 1\n",
    "eps = 10 ** -5\n",
    "mu = 1\n",
    "delta = 10\n",
    "x0 = [0,0]\n",
    "\n",
    "violence = np.zeros(2)\n",
    "violence[0] = max(0, x0[0] + 2*x0[1] - 3)\n",
    "violence[1] = max(0, -8*x0[0] - 5*x0[1] + 10)\n",
    "viol = mu * max(violence)"
   ]
  },
  {
   "cell_type": "markdown",
   "metadata": {
    "id": "zlo7a7MrRUvG"
   },
   "source": [
    "## Run the iteration and obtain the optimal value"
   ]
  },
  {
   "cell_type": "code",
   "execution_count": 11,
   "metadata": {
    "colab": {
     "base_uri": "https://localhost:8080/"
    },
    "id": "Gu4fNdRPMyBC",
    "outputId": "f78720ba-0b13-4a24-acd2-68b1bb28dc2d"
   },
   "outputs": [
    {
     "name": "stdout",
     "output_type": "stream",
     "text": [
      "1 -> mu = 1, x = [1.49999999 1.00000008], viol = 0.25000014568024986, obj_value = 1.2499998543197772, exterior = 1.500000000000027\n",
      "2 -> mu = 10, x = [1.41176494 0.82352929], viol = 0.03460207057877196, obj_value = 1.7301038117742396, exterior = 1.7647058823530115\n",
      "3 -> mu = 100, x = [1.40119575 0.80239613], viol = 0.0035856290424571835, obj_value = 1.7928215565905785, exterior = 1.7964071856330357\n",
      "4 -> mu = 1000, x = [1.40012593 0.80023697], viol = 0.0003598416640731017, obj_value = 1.799280230366055, exterior = 1.799640072030128\n",
      "5 -> mu = 10000, x = [1.40002771 0.80001614], viol = 3.598554856787395e-05, obj_value = 1.799928015481266, exterior = 1.799964001029834\n",
      "6 -> mu = 100000, x = [1.40049725 0.79975435], viol = 3.5271442224704685e-06, obj_value = 1.7999931808264278, exterior = 1.7999967079706503\n"
     ]
    }
   ],
   "source": [
    "i = 1\n",
    "while (viol > eps):\n",
    "  x0 = minimize (exterior, x0).x\n",
    "  violence[0] = max(0, x0[0] + 2*x0[1] - 3)\n",
    "  violence[1] = max(0, -8*x0[0] - 5*x0[1] + 10)\n",
    "  viol = max(violence)\n",
    "  objective = (x0[0] - 2)**2 + (x0[1] - 2)**2\n",
    "  vi = 2*mu*max(0, x0[0] + 2*x0[1] - 3)\n",
    "  ui = 2*mu*max(0, -8*x0[0] - 5*x0[1] + 10)\n",
    "  print(\"{} -> mu = {}, x = {}, viol = {}, obj_value = {}, exterior = {}\".\n",
    "     format(i, mu, x0, exterior(x0)-objective, objective, exterior(x0)))\n",
    "  mu = mu*delta\n",
    "  i += 1"
   ]
  },
  {
   "cell_type": "markdown",
   "metadata": {
    "id": "nBdgOfIEcxQc"
   },
   "source": [
    "# Example 2\n",
    "Problem Set 3: Quetion 3"
   ]
  },
  {
   "cell_type": "markdown",
   "metadata": {
    "id": "um_SldM1SJaV"
   },
   "source": [
    "## Define the constrained problem: z(X,mu)"
   ]
  },
  {
   "cell_type": "code",
   "execution_count": 15,
   "metadata": {
    "id": "2b4ffQfUc0iH"
   },
   "outputs": [],
   "source": [
    "# Minimize f = 4 + 3(1 - x1)^2 + (1 - x2)^2\n",
    "# s.t. 3x1 + x2 = 5\n",
    "def exterior (x) :\n",
    "    obj = 4 + 3*(1 - x[0])**2 + (1 - x[1])**2\n",
    "    obj += mu*(3*x[0] + x[1] - 5)**2\n",
    "    return obj"
   ]
  },
  {
   "cell_type": "markdown",
   "metadata": {
    "id": "9cVmD6TISPGk"
   },
   "source": [
    "## Set the initial parameters and define the exterior penalty function"
   ]
  },
  {
   "cell_type": "code",
   "execution_count": 16,
   "metadata": {
    "id": "8SmkX2bida9I"
   },
   "outputs": [],
   "source": [
    "i = 1\n",
    "eps = 10 ** -5\n",
    "mu = 1\n",
    "delta = 10\n",
    "x0 = [0,0]\n",
    "\n",
    "violence = np.zeros(1)\n",
    "violence[0] = abs(3*x0[0] + x0[1] - 5)\n",
    "viol = max(violence)"
   ]
  },
  {
   "cell_type": "markdown",
   "metadata": {
    "id": "JWdK4VDeSU3Q"
   },
   "source": [
    "## Run the iteration and obtain the optimal value"
   ]
  },
  {
   "cell_type": "code",
   "execution_count": 17,
   "metadata": {
    "colab": {
     "base_uri": "https://localhost:8080/"
    },
    "id": "fWQepQj3eBeB",
    "outputId": "841c5b1c-3754-47b3-c836-5b02f65423bb"
   },
   "outputs": [
    {
     "name": "stdout",
     "output_type": "stream",
     "text": [
      "1 -> mu = 1, x = [1.19999999 1.20000003], viol = 0.040000003115792104, obj_value = 4.159999996884209, exterior = 4.200000000000001\n",
      "2 -> mu = 10, x = [1.24390245 1.24390239], viol = 0.005948849096730768, obj_value = 4.237953589927667, exterior = 4.243902439024398\n",
      "3 -> mu = 100, x = [1.24937672 1.24937604], viol = 0.0006218974092160323, obj_value = 4.248754661194667, exterior = 4.249376558603883\n",
      "4 -> mu = 1000, x = [1.24993723 1.24993836], viol = 6.247909921164307e-05, obj_value = 4.249875036523272, exterior = 4.2499375156224835\n",
      "5 -> mu = 10000, x = [1.24998634 1.25001595], viol = 6.259897850746654e-06, obj_value = 4.249987490920267, exterior = 4.249993750818118\n",
      "6 -> mu = 100000, x = [1.24999309 1.25001821], viol = 6.354514745510187e-07, obj_value = 4.249998740066522, exterior = 4.249999375517996\n"
     ]
    }
   ],
   "source": [
    "i = 1\n",
    "while (viol > eps):\n",
    "  x0 = minimize (exterior, x0).x\n",
    "  violence[0] = abs(3*x0[0] + x0[1] - 5)\n",
    "  viol = max(violence)\n",
    "  objective = 4 + 3*(1-x0[0])**2 + (1-x0[1])**2\n",
    "  vi = 2*mu*(3*x0[0] + x0[1] - 5)\n",
    "  print(\"{} -> mu = {}, x = {}, viol = {}, obj_value = {}, exterior = {}\".\n",
    "     format(i, mu, x0, exterior(x0)-objective, objective, exterior(x0)))\n",
    "  mu = mu*delta\n",
    "  i += 1"
   ]
  }
 ],
 "metadata": {
  "colab": {
   "collapsed_sections": [],
   "name": "Penalty and Newton_Wenying Shen.ipynb",
   "provenance": [],
   "toc_visible": true
  },
  "kernelspec": {
   "display_name": "Python 3",
   "language": "python",
   "name": "python3"
  },
  "language_info": {
   "codemirror_mode": {
    "name": "ipython",
    "version": 3
   },
   "file_extension": ".py",
   "mimetype": "text/x-python",
   "name": "python",
   "nbconvert_exporter": "python",
   "pygments_lexer": "ipython3",
   "version": "3.8.5"
  }
 },
 "nbformat": 4,
 "nbformat_minor": 1
}
